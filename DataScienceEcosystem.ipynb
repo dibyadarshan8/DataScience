{
 "cells": [
  {
   "cell_type": "markdown",
   "id": "53977ef1-37d9-470d-8cdc-c7f3dd3a636c",
   "metadata": {},
   "source": [
    "# Data Science Tools and Ecosystem\n"
   ]
  },
  {
   "cell_type": "markdown",
   "id": "5186f54a-1d78-43f4-b49a-9773482e3fb0",
   "metadata": {},
   "source": [
    "In this notebook, Data Science Tools and Ecosystem are summarized."
   ]
  },
  {
   "cell_type": "markdown",
   "id": "e8264e4f-d5a6-4f95-992a-a7888a234378",
   "metadata": {},
   "source": [
    "**Objectives:**"
   ]
  },
  {
   "cell_type": "markdown",
   "id": "6f603673-f94b-4d8e-8c3b-eb627a369f70",
   "metadata": {},
   "source": [
    "- Python\n",
    "- Julia\n",
    "- C++\n",
    "- R"
   ]
  },
  {
   "cell_type": "markdown",
   "id": "c912026f-00ef-4447-8348-af05902d0a9c",
   "metadata": {},
   "source": [
    "Some of the popular languages that Data Scientists use are:"
   ]
  },
  {
   "cell_type": "markdown",
   "id": "04b92bb6-1dc2-43d4-9223-d14d072b4e1c",
   "metadata": {
    "tags": []
   },
   "source": [
    "1. Python\n",
    "2. Julia\n",
    "3. R\n",
    "4. Java"
   ]
  },
  {
   "cell_type": "markdown",
   "id": "fac02a83-7c84-4c36-a3c3-31339c55f803",
   "metadata": {},
   "source": [
    "Some of the commonly used libraries used by Data Scientists include:"
   ]
  },
  {
   "cell_type": "markdown",
   "id": "ceacc58e-6bfb-4307-81a5-519f8be83fe8",
   "metadata": {},
   "source": [
    "1. Pandas\n",
    "2. Numpy\n",
    "3. Matplotlib\n",
    "4. Seaborn"
   ]
  },
  {
   "cell_type": "markdown",
   "id": "caad5552-a532-463e-b79a-581f464bfa1b",
   "metadata": {},
   "source": [
    "|Data Science Tools|\n",
    "|------------------|\n",
    "|Jupyter Notebook | \n",
    "|VScode | \n",
    "|Google Collab|"
   ]
  },
  {
   "cell_type": "markdown",
   "id": "ecc6635a-4458-414c-b359-ecb58feef6d7",
   "metadata": {},
   "source": [
    "### Below are a few examples of evaluating arithmetic expressions in Python"
   ]
  },
  {
   "cell_type": "code",
   "execution_count": 2,
   "id": "28271269-81a3-4754-be48-0e0fbaf7f871",
   "metadata": {
    "tags": []
   },
   "outputs": [
    {
     "data": {
      "text/plain": [
       "17"
      ]
     },
     "execution_count": 2,
     "metadata": {},
     "output_type": "execute_result"
    }
   ],
   "source": [
    "# This a simple arithmetic expression to mutiply then add integers\n",
    "(3 * 4) + 5"
   ]
  },
  {
   "cell_type": "code",
   "execution_count": 3,
   "id": "447d7805-548f-474e-b90b-8481560676a7",
   "metadata": {
    "tags": []
   },
   "outputs": [
    {
     "name": "stdout",
     "output_type": "stream",
     "text": [
      "hours =  3.3333333333333335\n"
     ]
    }
   ],
   "source": [
    "# This will convert 200 minutes to hours by diving by 60\n",
    "minutes = 200\n",
    "hours = 200 / 60\n",
    "print(\"hours = \", hours)"
   ]
  },
  {
   "cell_type": "markdown",
   "id": "5097d042-9e6d-4696-8ad8-204ac89ff686",
   "metadata": {},
   "source": [
    "## Author"
   ]
  },
  {
   "cell_type": "markdown",
   "id": "76b9dedc-b4f8-41ec-b66a-78e7a286d89c",
   "metadata": {},
   "source": [
    "Dibyadarshan Rath"
   ]
  },
  {
   "cell_type": "code",
   "execution_count": null,
   "id": "894e3589-bf06-471b-8872-500a011984bb",
   "metadata": {},
   "outputs": [],
   "source": []
  }
 ],
 "metadata": {
  "kernelspec": {
   "display_name": "Python",
   "language": "python",
   "name": "conda-env-python-py"
  },
  "language_info": {
   "codemirror_mode": {
    "name": "ipython",
    "version": 3
   },
   "file_extension": ".py",
   "mimetype": "text/x-python",
   "name": "python",
   "nbconvert_exporter": "python",
   "pygments_lexer": "ipython3",
   "version": "3.7.12"
  }
 },
 "nbformat": 4,
 "nbformat_minor": 5
}
